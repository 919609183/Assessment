{
 "cells": [
  {
   "cell_type": "code",
   "execution_count": 57,
   "id": "fbe3bf4e",
   "metadata": {},
   "outputs": [
    {
     "name": "stdout",
     "output_type": "stream",
     "text": [
      " * Serving Flask app '__main__'\n",
      " * Debug mode: off\n"
     ]
    },
    {
     "name": "stderr",
     "output_type": "stream",
     "text": [
      "WARNING: This is a development server. Do not use it in a production deployment. Use a production WSGI server instead.\n",
      " * Running on http://127.0.0.1:5000\n",
      "Press CTRL+C to quit\n",
      "127.0.0.1 - - [02/Jun/2023 18:49:38] \"GET / HTTP/1.1\" 200 -\n",
      "127.0.0.1 - - [02/Jun/2023 18:49:38] \"GET /static/cars.jpg HTTP/1.1\" 304 -\n"
     ]
    }
   ],
   "source": [
    "from flask import Flask, redirect, url_for, render_template, request\n",
    "\n",
    "app = Flask(__name__)\n",
    "\n",
    "@app.route(\"/\")\n",
    "@app.route(\"/home\")\n",
    "def home():\n",
    "    return render_template(\"home.html\")\n",
    "\n",
    "@app.route(\"/login\")\n",
    "def login():\n",
    "    return render_template(\"login.html\")\n",
    "\n",
    "@app.route(\"/layout\")\n",
    "def layout():\n",
    "    return redirect(url_for(\"login.html\"))\n",
    "\n",
    "@app.route(\"/logout\")\n",
    "def logout():\n",
    "    return redirect(url_for(\"home\"))\n",
    "\n",
    "@app.route(\"/register\", methods=[\"GET\", \"POST\"])\n",
    "def register():\n",
    "    if request.method == \"POST\":\n",
    "        # Registration logic here\n",
    "        return redirect(url_for(\"login\"))\n",
    "    return render_template(\"register.html\")\n",
    "\n",
    "@app.route(\"/submit\", methods=['POST', 'GET'])\n",
    "def submit():\n",
    "    if request.method == 'POST':\n",
    "        user = request.form['username']\n",
    "        return \"Successful login\"\n",
    "    else:\n",
    "        user = request.args.get('username')\n",
    "        return \"Unsuccessful login\"\n",
    "\n",
    "if __name__ == \"__main__\":\n",
    "    app.run()"
   ]
  }
 ],
 "metadata": {
  "kernelspec": {
   "display_name": "Python 3 (ipykernel)",
   "language": "python",
   "name": "python3"
  },
  "language_info": {
   "codemirror_mode": {
    "name": "ipython",
    "version": 3
   },
   "file_extension": ".py",
   "mimetype": "text/x-python",
   "name": "python",
   "nbconvert_exporter": "python",
   "pygments_lexer": "ipython3",
   "version": "3.9.13"
  },
  "toc": {
   "base_numbering": 1,
   "nav_menu": {},
   "number_sections": true,
   "sideBar": true,
   "skip_h1_title": false,
   "title_cell": "Table of Contents",
   "title_sidebar": "Contents",
   "toc_cell": false,
   "toc_position": {},
   "toc_section_display": true,
   "toc_window_display": false
  },
  "varInspector": {
   "cols": {
    "lenName": 16,
    "lenType": 16,
    "lenVar": 40
   },
   "kernels_config": {
    "python": {
     "delete_cmd_postfix": "",
     "delete_cmd_prefix": "del ",
     "library": "var_list.py",
     "varRefreshCmd": "print(var_dic_list())"
    },
    "r": {
     "delete_cmd_postfix": ") ",
     "delete_cmd_prefix": "rm(",
     "library": "var_list.r",
     "varRefreshCmd": "cat(var_dic_list()) "
    }
   },
   "types_to_exclude": [
    "module",
    "function",
    "builtin_function_or_method",
    "instance",
    "_Feature"
   ],
   "window_display": false
  }
 },
 "nbformat": 4,
 "nbformat_minor": 5
}
